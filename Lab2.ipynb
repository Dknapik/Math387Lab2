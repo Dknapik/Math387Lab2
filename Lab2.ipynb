{
 "cells": [
  {
   "cell_type": "markdown",
   "metadata": {},
   "source": [
    "# Math 387 Lab Assignment 2\n",
    "David Knapik\n",
    "260607757"
   ]
  },
  {
   "cell_type": "code",
   "execution_count": 144,
   "metadata": {},
   "outputs": [],
   "source": [
    "import numpy as np\n",
    "import random as rn\n",
    "import matplotlib.pyplot as plt\n",
    "import copy\n",
    "from PIL import Image"
   ]
  },
  {
   "cell_type": "markdown",
   "metadata": {},
   "source": [
    "We write a function that takes $n$ as its parameter and generates an $n \\times n$ matrix, whose entries are random numbers uniformly distributed in $[−1,1]$."
   ]
  },
  {
   "cell_type": "code",
   "execution_count": 91,
   "metadata": {},
   "outputs": [],
   "source": [
    "def creatematrix(n):\n",
    "    A=np.random.uniform(-1,1,(n,n))\n",
    "    return A"
   ]
  },
  {
   "cell_type": "markdown",
   "metadata": {},
   "source": [
    "Now, we implement Gaussian elimination with partial pivoting."
   ]
  },
  {
   "cell_type": "code",
   "execution_count": 138,
   "metadata": {},
   "outputs": [
    {
     "name": "stdout",
     "output_type": "stream",
     "text": [
      "[[-0.83684413 -0.40029658 -0.11838522 -0.89056954 -0.95943704]\n",
      " [-0.1679869  -0.81515637 -0.46937024  0.92488922 -0.28819002]\n",
      " [-0.103376    0.19203385  0.23692722 -0.69033016 -0.62087486]\n",
      " [-0.27344582 -0.78989568  0.03482533 -0.60096202  0.59867177]\n",
      " [-0.95109505 -0.85247935  0.71919812  0.15663039  0.40340704]]\n"
     ]
    }
   ],
   "source": [
    "E = creatematrix(5) #example matrix\n",
    "print(E)"
   ]
  },
  {
   "cell_type": "code",
   "execution_count": 86,
   "metadata": {},
   "outputs": [],
   "source": [
    "def GEPP(A, doPricing = True):  #Gaussian Elimination with Partial Pivoting. \n",
    "    #The input is A --> our matrix which is nxn\n",
    "    l=len(A)\n",
    "    \n",
    "    for k in range(l-1): #k is the current pivot row \n",
    "        if doPricing:\n",
    "            # Pivoting\n",
    "            maxindex = abs(A[k:,k]).argmax() + k\n",
    "            if A[maxindex, k] == 0:\n",
    "                raise ValueError(\"Matrix is singular\")\n",
    "            # Swapping\n",
    "            if maxindex != k:\n",
    "                A[[k,maxindex]] = A[[maxindex, k]]\n",
    "        else:\n",
    "            if A[k, k] == 0:\n",
    "                raise ValueError(\"pivot element is zero\")\n",
    "    \n",
    "        for row in range(k+1, l):\n",
    "            multiplier = A[row,k]/A[k,k]\n",
    "            A[row, k:] = A[row, k:] - multiplier*A[k, k:]\n",
    "            \n",
    "    return A #Returns an upper triangular matrix after the GEPP procedure.\n"
   ]
  },
  {
   "cell_type": "code",
   "execution_count": 134,
   "metadata": {},
   "outputs": [
    {
     "data": {
      "text/plain": [
       "array([[ 0.94587463, -0.2950987 ,  0.34306065, -0.17994405,  0.44769853],\n",
       "       [ 0.        , -1.02372278, -0.54965416,  0.55502279,  1.09991334],\n",
       "       [ 0.        ,  0.        , -0.30234763,  1.10856827,  0.5003346 ],\n",
       "       [ 0.        ,  0.        ,  0.        , -1.53046918, -1.62474401],\n",
       "       [ 0.        ,  0.        ,  0.        ,  0.        ,  0.48817288]])"
      ]
     },
     "execution_count": 134,
     "metadata": {},
     "output_type": "execute_result"
    }
   ],
   "source": [
    "GEPP(E) #Testing the GEPP"
   ]
  },
  {
   "cell_type": "markdown",
   "metadata": {},
   "source": [
    "To calculate the growth factor:"
   ]
  },
  {
   "cell_type": "code",
   "execution_count": 157,
   "metadata": {
    "collapsed": true
   },
   "outputs": [],
   "source": [
    "def gf(A):\n",
    "    U=copy.copy(A)\n",
    "    B=GEPP(U)\n",
    "    a = max(B.min(),B.max(),key = abs) #max of |uij|\n",
    "    b = max(A.min(),A.max(),key = abs) #max of |aij|\n",
    "    return abs(a/b)"
   ]
  },
  {
   "cell_type": "code",
   "execution_count": 142,
   "metadata": {},
   "outputs": [
    {
     "data": {
      "text/plain": [
       "1.612416798633729"
      ]
     },
     "execution_count": 142,
     "metadata": {},
     "output_type": "execute_result"
    }
   ],
   "source": [
    "gf(E) #test example"
   ]
  },
  {
   "cell_type": "markdown",
   "metadata": {},
   "source": [
    "Now, we plot the growth factor against the matrix size."
   ]
  },
  {
   "cell_type": "code",
   "execution_count": 158,
   "metadata": {
    "collapsed": true
   },
   "outputs": [],
   "source": [
    "Matrices = []  \n",
    "for n in range(10,1000,5):\n",
    "    Matrices.append(creatematrix(n))"
   ]
  },
  {
   "cell_type": "code",
   "execution_count": 159,
   "metadata": {},
   "outputs": [],
   "source": [
    "GrowthFactors = []\n",
    "for x in Matrices:\n",
    "    GrowthFactors.append(gf(x))\n"
   ]
  },
  {
   "cell_type": "code",
   "execution_count": 163,
   "metadata": {},
   "outputs": [
    {
     "data": {
      "image/png": "[encoded data removed]",
      "text/plain": [
       "<matplotlib.figure.Figure at 0x269cbd6a278>"
      ]
     },
     "metadata": {},
     "output_type": "display_data"
    }
   ],
   "source": [
    "xlist = [range(10,1000,5)]\n",
    "plt.plot((np.log(xlist)).flatten(), np.log(GrowthFactors))\n",
    "plt.xlabel('log(n)')\n",
    "plt.ylabel('log(Growth Factor)')\n",
    "plt.show()"
   ]
  },
  {
   "cell_type": "markdown",
   "metadata": {},
   "source": [
    "Considering the above plot, we estimate that $\\alpha \\approx 0.5$. So, compared to the worst case scenario $g \\approx 2^n$, we have that $g \\approx c \\sqrt{n}$, so we are doing much better than the worst case scenario."
   ]
  },
  {
   "cell_type": "markdown",
   "metadata": {},
   "source": [
    "Now lets fix $n = 10$."
   ]
  },
  {
   "cell_type": "code",
   "execution_count": 166,
   "metadata": {
    "collapsed": true
   },
   "outputs": [],
   "source": [
    "MatricesTen = []\n",
    "count = 0 \n",
    "while (count < 500):\n",
    "    MatricesTen.append(creatematrix(10))\n",
    "    count = count + 1"
   ]
  },
  {
   "cell_type": "code",
   "execution_count": 167,
   "metadata": {},
   "outputs": [],
   "source": [
    "GrowthFactorsTen=[]\n",
    "for x in MatricesTen:\n",
    "    GrowthFactorsTen.append(gf(x))"
   ]
  },
  {
   "cell_type": "code",
   "execution_count": 168,
   "metadata": {},
   "outputs": [
    {
     "data": {
      "image/png": "[encoded data removed]",
      "text/plain": [
       "<matplotlib.figure.Figure at 0x269cbe02390>"
      ]
     },
     "metadata": {},
     "output_type": "display_data"
    }
   ],
   "source": [
    "plt.hist(GrowthFactorsTen,bins='auto')\n",
    "plt.title('n=10, uniform')\n",
    "plt.show()"
   ]
  },
  {
   "cell_type": "markdown",
   "metadata": {},
   "source": [
    "Repeat for $n=20,64,128$."
   ]
  },
  {
   "cell_type": "code",
   "execution_count": 169,
   "metadata": {},
   "outputs": [
    {
     "data": {
      "image/png": "[encoded data removed]",
      "text/plain": [
       "<matplotlib.figure.Figure at 0x269cbd34630>"
      ]
     },
     "metadata": {},
     "output_type": "display_data"
    }
   ],
   "source": [
    "MatricesTwenty = []\n",
    "count = 0 \n",
    "while (count < 300):\n",
    "    MatricesTwenty.append(creatematrix(20))\n",
    "    count = count + 1\n",
    "    \n",
    "GrowthFactorsTwenty=[]\n",
    "for x in MatricesTwenty:\n",
    "    GrowthFactorsTwenty.append(gf(x))\n",
    "    \n",
    "plt.hist(GrowthFactorsTwenty,bins='auto')\n",
    "plt.title('n=20, uniform')\n",
    "plt.show()"
   ]
  },
  {
   "cell_type": "code",
   "execution_count": 170,
   "metadata": {},
   "outputs": [
    {
     "data": {
      "image/png": "[encoded data removed]",
      "text/plain": [
       "<matplotlib.figure.Figure at 0x269cbddc6d8>"
      ]
     },
     "metadata": {},
     "output_type": "display_data"
    }
   ],
   "source": [
    "Matrices64 = []\n",
    "count = 0 \n",
    "while (count < 300):\n",
    "    Matrices64.append(creatematrix(64))\n",
    "    count = count + 1\n",
    "    \n",
    "GrowthFactors64=[]\n",
    "for x in Matrices64:\n",
    "    GrowthFactors64.append(gf(x))\n",
    "    \n",
    "plt.hist(GrowthFactors64,bins='auto')\n",
    "plt.title('n=64, uniform')\n",
    "plt.show()"
   ]
  },
  {
   "cell_type": "code",
   "execution_count": 171,
   "metadata": {},
   "outputs": [
    {
     "data": {
      "image/png": "[encoded data removed]",
      "text/plain": [
       "<matplotlib.figure.Figure at 0x269cbd34a90>"
      ]
     },
     "metadata": {},
     "output_type": "display_data"
    }
   ],
   "source": [
    "Matrices128 = []\n",
    "count = 0 \n",
    "while (count < 300):\n",
    "    Matrices128.append(creatematrix(128))\n",
    "    count = count + 1\n",
    "    \n",
    "GrowthFactors128=[]\n",
    "for x in Matrices128:\n",
    "    GrowthFactors128.append(gf(x))\n",
    "    \n",
    "plt.hist(GrowthFactors128,bins='auto')\n",
    "plt.title('n=128, uniform')\n",
    "plt.show()"
   ]
  },
  {
   "cell_type": "markdown",
   "metadata": {},
   "source": [
    "Considering the above plots, our approximation for the PDF of the growth factors is a Skew Normal Distribution. Our conjecture on how the PDF decays as the growth factor gets large is that it is an exponential decay."
   ]
  },
  {
   "cell_type": "code",
   "execution_count": null,
   "metadata": {
    "collapsed": true
   },
   "outputs": [],
   "source": []
  }
 ],
 "metadata": {
  "kernelspec": {
   "display_name": "Python 3",
   "language": "python",
   "name": "python3"
  },
  "language_info": {
   "codemirror_mode": {
    "name": "ipython",
    "version": 3
   },
   "file_extension": ".py",
   "mimetype": "text/x-python",
   "name": "python",
   "nbconvert_exporter": "python",
   "pygments_lexer": "ipython3",
   "version": "3.6.3"
  }
 },
 "nbformat": 4,
 "nbformat_minor": 2
}
